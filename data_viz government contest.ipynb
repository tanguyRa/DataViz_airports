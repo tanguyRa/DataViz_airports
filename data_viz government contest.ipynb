{
 "cells": [
  {
   "cell_type": "markdown",
   "metadata": {
    "colab_type": "text",
    "id": "5RUeksTh7Yb3"
   },
   "source": [
    "# init"
   ]
  },
  {
   "cell_type": "code",
   "execution_count": 1,
   "metadata": {
    "colab": {
     "autoexec": {
      "startup": false,
      "wait_interval": 0
     }
    },
    "colab_type": "code",
    "id": "r766bfC1IJHZ"
   },
   "outputs": [],
   "source": [
    "import sys\n",
    "sys.path.append('/usr/local/lib/python3.6/site-packages')\n",
    "\n",
    "# imports\n",
    "import glob, os, re\n",
    "import pandas as pd\n",
    "import numpy as np\n",
    "from IPython.display import display, display_html\n",
    "%config IPCompleter.greedy=True\n",
    "pd.set_option(\"display.max_columns\",100)\n",
    "pd.set_option(\"display.max_rows\",200)\n",
    "%matplotlib inline\n",
    "def display_side_by_side(list):\n",
    "    html_str=''\n",
    "    for df in list:\n",
    "        html_str+=df.to_html()\n",
    "    display_html(html_str.replace('table','table style=\"display:inline\"'),raw=True)\n"
   ]
  },
  {
   "cell_type": "code",
   "execution_count": 2,
   "metadata": {},
   "outputs": [],
   "source": [
    "# load files\n",
    "def files_to_df(file_mask):\n",
    "    path = r'./data/' # use your path\n",
    "    all_files = glob.glob(os.path.join(path, file_mask))\n",
    "    return pd.concat((pd.read_csv(f, header=0, sep=';') for f in all_files))\n",
    "\n",
    "df_apt = files_to_df('DataViz*_APT.csv')\n",
    "df_emi = files_to_df('DataViz*_EMI_*.csv')\n",
    "df_ret = files_to_df('DataViz*_RET_*.csv')\n",
    "df_tra = files_to_df('DataViz*_TRA_*.csv')"
   ]
  },
  {
   "cell_type": "markdown",
   "metadata": {
    "colab_type": "text",
    "id": "0EROmo6Y7Tz-"
   },
   "source": [
    "# DFs"
   ]
  },
  {
   "cell_type": "code",
   "execution_count": 3,
   "metadata": {
    "colab": {
     "autoexec": {
      "startup": false,
      "wait_interval": 0
     },
     "base_uri": "https://localhost:8080/",
     "height": 337
    },
    "colab_type": "code",
    "executionInfo": {
     "elapsed": 483,
     "status": "ok",
     "timestamp": 1527515731779,
     "user": {
      "displayName": "FAUSTO Angelina",
      "photoUrl": "https://lh3.googleusercontent.com/a/default-user=s128",
      "userId": "107095745517777384530"
     },
     "user_tz": -120
    },
    "id": "ElkuDoTRIJHe",
    "outputId": "b0a1151f-74bd-4383-86c7-8c29014cca8b"
   },
   "outputs": [
    {
     "data": {
      "text/html": [
       "<div>\n",
       "<style scoped>\n",
       "    .dataframe tbody tr th:only-of-type {\n",
       "        vertical-align: middle;\n",
       "    }\n",
       "\n",
       "    .dataframe tbody tr th {\n",
       "        vertical-align: top;\n",
       "    }\n",
       "\n",
       "    .dataframe thead th {\n",
       "        text-align: right;\n",
       "    }\n",
       "</style>\n",
       "<table border=\"1\" class=\"dataframe\">\n",
       "  <thead>\n",
       "    <tr style=\"text-align: right;\">\n",
       "      <th></th>\n",
       "      <th>APT_OACI</th>\n",
       "      <th>APT_IATA</th>\n",
       "      <th>APT_NOM</th>\n",
       "      <th>APT_ISO2</th>\n",
       "      <th>APT_PAYS</th>\n",
       "      <th>PAYS_ZON</th>\n",
       "      <th>PAYS_FSC</th>\n",
       "      <th>APT_LAT</th>\n",
       "      <th>APT_LONG</th>\n",
       "    </tr>\n",
       "  </thead>\n",
       "  <tbody>\n",
       "    <tr>\n",
       "      <th>0</th>\n",
       "      <td>LFMH</td>\n",
       "      <td>EBU</td>\n",
       "      <td>ST-ETIENNE-LOIRE</td>\n",
       "      <td>FR</td>\n",
       "      <td>France (Métrop.)</td>\n",
       "      <td>M</td>\n",
       "      <td>CC</td>\n",
       "      <td>45,53</td>\n",
       "      <td>4,30</td>\n",
       "    </tr>\n",
       "  </tbody>\n",
       "</table>\n",
       "</div>"
      ],
      "text/plain": [
       "  APT_OACI APT_IATA           APT_NOM APT_ISO2          APT_PAYS PAYS_ZON  \\\n",
       "0     LFMH      EBU  ST-ETIENNE-LOIRE       FR  France (Métrop.)        M   \n",
       "\n",
       "  PAYS_FSC APT_LAT APT_LONG  \n",
       "0       CC   45,53     4,30  "
      ]
     },
     "metadata": {},
     "output_type": "display_data"
    },
    {
     "data": {
      "text/plain": [
       "(1511, 9)"
      ]
     },
     "metadata": {},
     "output_type": "display_data"
    },
    {
     "data": {
      "text/html": [
       "<div>\n",
       "<style scoped>\n",
       "    .dataframe tbody tr th:only-of-type {\n",
       "        vertical-align: middle;\n",
       "    }\n",
       "\n",
       "    .dataframe tbody tr th {\n",
       "        vertical-align: top;\n",
       "    }\n",
       "\n",
       "    .dataframe thead th {\n",
       "        text-align: right;\n",
       "    }\n",
       "</style>\n",
       "<table border=\"1\" class=\"dataframe\">\n",
       "  <thead>\n",
       "    <tr style=\"text-align: right;\">\n",
       "      <th></th>\n",
       "      <th>ANMOIS</th>\n",
       "      <th>APT</th>\n",
       "      <th>FSC</th>\n",
       "      <th>ZON</th>\n",
       "      <th>CAT</th>\n",
       "      <th>MVT</th>\n",
       "      <th>PAX</th>\n",
       "      <th>PEQ</th>\n",
       "      <th>CO2</th>\n",
       "      <th>NOX</th>\n",
       "      <th>COVNM</th>\n",
       "      <th>TSP</th>\n",
       "    </tr>\n",
       "  </thead>\n",
       "  <tbody>\n",
       "    <tr>\n",
       "      <th>0</th>\n",
       "      <td>200901</td>\n",
       "      <td>LFPG</td>\n",
       "      <td>LC</td>\n",
       "      <td>I</td>\n",
       "      <td>A</td>\n",
       "      <td>1</td>\n",
       "      <td>2</td>\n",
       "      <td>2</td>\n",
       "      <td>0,001</td>\n",
       "      <td>0,001</td>\n",
       "      <td>0,000</td>\n",
       "      <td>0,000</td>\n",
       "    </tr>\n",
       "  </tbody>\n",
       "</table>\n",
       "</div>"
      ],
      "text/plain": [
       "   ANMOIS   APT FSC ZON CAT  MVT  PAX  PEQ    CO2    NOX  COVNM    TSP\n",
       "0  200901  LFPG  LC   I   A    1    2    2  0,001  0,001  0,000  0,000"
      ]
     },
     "metadata": {},
     "output_type": "display_data"
    },
    {
     "data": {
      "text/plain": [
       "(26898, 12)"
      ]
     },
     "metadata": {},
     "output_type": "display_data"
    },
    {
     "data": {
      "text/html": [
       "<div>\n",
       "<style scoped>\n",
       "    .dataframe tbody tr th:only-of-type {\n",
       "        vertical-align: middle;\n",
       "    }\n",
       "\n",
       "    .dataframe tbody tr th {\n",
       "        vertical-align: top;\n",
       "    }\n",
       "\n",
       "    .dataframe thead th {\n",
       "        text-align: right;\n",
       "    }\n",
       "</style>\n",
       "<table border=\"1\" class=\"dataframe\">\n",
       "  <thead>\n",
       "    <tr style=\"text-align: right;\">\n",
       "      <th></th>\n",
       "      <th>ANMOIS</th>\n",
       "      <th>DEP</th>\n",
       "      <th>ARR</th>\n",
       "      <th>PC15_D</th>\n",
       "      <th>PC15_A</th>\n",
       "      <th>RETARD_D</th>\n",
       "      <th>RETARD_A</th>\n",
       "    </tr>\n",
       "  </thead>\n",
       "  <tbody>\n",
       "    <tr>\n",
       "      <th>0</th>\n",
       "      <td>201209</td>\n",
       "      <td>LEBL</td>\n",
       "      <td>LFSB</td>\n",
       "      <td>NaN</td>\n",
       "      <td>0,101</td>\n",
       "      <td>NaN</td>\n",
       "      <td>4,7</td>\n",
       "    </tr>\n",
       "  </tbody>\n",
       "</table>\n",
       "</div>"
      ],
      "text/plain": [
       "   ANMOIS   DEP   ARR PC15_D PC15_A RETARD_D RETARD_A\n",
       "0  201209  LEBL  LFSB    NaN  0,101      NaN      4,7"
      ]
     },
     "metadata": {},
     "output_type": "display_data"
    },
    {
     "data": {
      "text/plain": [
       "(187375, 7)"
      ]
     },
     "metadata": {},
     "output_type": "display_data"
    },
    {
     "data": {
      "text/html": [
       "<div>\n",
       "<style scoped>\n",
       "    .dataframe tbody tr th:only-of-type {\n",
       "        vertical-align: middle;\n",
       "    }\n",
       "\n",
       "    .dataframe tbody tr th {\n",
       "        vertical-align: top;\n",
       "    }\n",
       "\n",
       "    .dataframe thead th {\n",
       "        text-align: right;\n",
       "    }\n",
       "</style>\n",
       "<table border=\"1\" class=\"dataframe\">\n",
       "  <thead>\n",
       "    <tr style=\"text-align: right;\">\n",
       "      <th></th>\n",
       "      <th>ANMOIS</th>\n",
       "      <th>DEP</th>\n",
       "      <th>ARR</th>\n",
       "      <th>NVOLS</th>\n",
       "      <th>PAX_FS</th>\n",
       "      <th>FSC</th>\n",
       "      <th>ZON</th>\n",
       "    </tr>\n",
       "  </thead>\n",
       "  <tbody>\n",
       "    <tr>\n",
       "      <th>0</th>\n",
       "      <td>199801</td>\n",
       "      <td>BKPR</td>\n",
       "      <td>LFSB</td>\n",
       "      <td>19</td>\n",
       "      <td>2720</td>\n",
       "      <td>MC</td>\n",
       "      <td>I</td>\n",
       "    </tr>\n",
       "  </tbody>\n",
       "</table>\n",
       "</div>"
      ],
      "text/plain": [
       "   ANMOIS   DEP   ARR  NVOLS  PAX_FS FSC ZON\n",
       "0  199801  BKPR  LFSB     19    2720  MC   I"
      ]
     },
     "metadata": {},
     "output_type": "display_data"
    },
    {
     "data": {
      "text/plain": [
       "(1014552, 7)"
      ]
     },
     "metadata": {},
     "output_type": "display_data"
    }
   ],
   "source": [
    "display(df_apt.head(1), df_apt.shape)\n",
    "display(df_emi.head(1), df_emi.shape)\n",
    "display(df_ret.head(1), df_ret.shape)\n",
    "display(df_tra.head(1), df_tra.shape)"
   ]
  },
  {
   "cell_type": "markdown",
   "metadata": {
    "colab_type": "text",
    "id": "ifx3c0UBIJHs"
   },
   "source": [
    "# create JSON for pollution emissions per aeroport"
   ]
  },
  {
   "cell_type": "markdown",
   "metadata": {
    "colab_type": "text",
    "id": "6Sr_jqnZIJHt"
   },
   "source": [
    "### Create DF with delays (ret) per month"
   ]
  },
  {
   "cell_type": "code",
   "execution_count": 4,
   "metadata": {
    "colab": {
     "autoexec": {
      "startup": false,
      "wait_interval": 0
     },
     "base_uri": "https://localhost:8080/",
     "height": 111
    },
    "colab_type": "code",
    "executionInfo": {
     "elapsed": 1517,
     "status": "ok",
     "timestamp": 1527515755324,
     "user": {
      "displayName": "FAUSTO Angelina",
      "photoUrl": "https://lh3.googleusercontent.com/a/default-user=s128",
      "userId": "107095745517777384530"
     },
     "user_tz": -120
    },
    "id": "CucVyYy3IJHu",
    "outputId": "5df29b5f-abe9-4fcf-9092-bca63803b08d"
   },
   "outputs": [
    {
     "data": {
      "text/html": [
       "<table style=\"display:inline\" border=\"1\" class=\"dataframe\">\n",
       "  <thead>\n",
       "    <tr style=\"text-align: right;\">\n",
       "      <th></th>\n",
       "      <th>ANMOIS</th>\n",
       "      <th>DEP</th>\n",
       "      <th>ARR</th>\n",
       "      <th>PC15_D</th>\n",
       "      <th>PC15_A</th>\n",
       "      <th>RETARD_D</th>\n",
       "      <th>RETARD_A</th>\n",
       "    </tr>\n",
       "  </thead>\n",
       "  <tbody>\n",
       "    <tr>\n",
       "      <th>0</th>\n",
       "      <td>201209</td>\n",
       "      <td>LEBL</td>\n",
       "      <td>LFSB</td>\n",
       "      <td>NaN</td>\n",
       "      <td>0,101</td>\n",
       "      <td>NaN</td>\n",
       "      <td>4,7</td>\n",
       "    </tr>\n",
       "    <tr>\n",
       "      <th>1</th>\n",
       "      <td>201209</td>\n",
       "      <td>LEBL</td>\n",
       "      <td>LFLL</td>\n",
       "      <td>NaN</td>\n",
       "      <td>0,087</td>\n",
       "      <td>NaN</td>\n",
       "      <td>5,0</td>\n",
       "    </tr>\n",
       "  </tbody>\n",
       "</table style=\"display:inline\"><table style=\"display:inline\" border=\"1\" class=\"dataframe\">\n",
       "  <thead>\n",
       "    <tr style=\"text-align: right;\">\n",
       "      <th></th>\n",
       "      <th>DEP</th>\n",
       "      <th>ANMOIS</th>\n",
       "      <th>RETARD_D</th>\n",
       "    </tr>\n",
       "  </thead>\n",
       "  <tbody>\n",
       "    <tr>\n",
       "      <th>0</th>\n",
       "      <td>BIKF</td>\n",
       "      <td>201201</td>\n",
       "      <td>0.0</td>\n",
       "    </tr>\n",
       "    <tr>\n",
       "      <th>1</th>\n",
       "      <td>BIKF</td>\n",
       "      <td>201202</td>\n",
       "      <td>0.0</td>\n",
       "    </tr>\n",
       "  </tbody>\n",
       "</table style=\"display:inline\">"
      ]
     },
     "metadata": {},
     "output_type": "display_data"
    }
   ],
   "source": [
    "# remove null values\n",
    "df_ret1 = df_ret.fillna(value='0').copy()\n",
    "\n",
    "# set values as numeric\n",
    "df_ret1[['PC15_D','PC15_A','RETARD_D','RETARD_A']] = (\n",
    "    df_ret1[['PC15_D','PC15_A','RETARD_D','RETARD_A']]\n",
    "    .astype('str')\n",
    "    .applymap(lambda val: val.replace(',','.'))\n",
    "    .apply(pd.to_numeric)\n",
    ")\n",
    "\n",
    "# get average delay per apt\n",
    "df_ret_permonth = df_ret1.groupby(['DEP','ANMOIS'])['RETARD_D'].agg('mean').reset_index()\n",
    "\n",
    "display_side_by_side([df_ret.head(2),df_ret_permonth.head(2)])"
   ]
  },
  {
   "cell_type": "markdown",
   "metadata": {
    "colab_type": "text",
    "id": "xajaIyfDIJHx"
   },
   "source": [
    "### Create DF with emissions per month"
   ]
  },
  {
   "cell_type": "code",
   "execution_count": 5,
   "metadata": {
    "colab": {
     "autoexec": {
      "startup": false,
      "wait_interval": 0
     },
     "base_uri": "https://localhost:8080/",
     "height": 205
    },
    "colab_type": "code",
    "executionInfo": {
     "elapsed": 457,
     "status": "ok",
     "timestamp": 1527515759505,
     "user": {
      "displayName": "FAUSTO Angelina",
      "photoUrl": "https://lh3.googleusercontent.com/a/default-user=s128",
      "userId": "107095745517777384530"
     },
     "user_tz": -120
    },
    "id": "Buf-1kl1IJHx",
    "outputId": "6e7cae3a-0ca1-416b-8b37-ff2a1df26ed5"
   },
   "outputs": [
    {
     "data": {
      "text/html": [
       "<table style=\"display:inline\" border=\"1\" class=\"dataframe\">\n",
       "  <thead>\n",
       "    <tr style=\"text-align: right;\">\n",
       "      <th></th>\n",
       "      <th>ANMOIS</th>\n",
       "      <th>APT</th>\n",
       "      <th>FSC</th>\n",
       "      <th>ZON</th>\n",
       "      <th>CAT</th>\n",
       "      <th>MVT</th>\n",
       "      <th>PAX</th>\n",
       "      <th>PEQ</th>\n",
       "      <th>CO2</th>\n",
       "      <th>NOX</th>\n",
       "      <th>COVNM</th>\n",
       "      <th>TSP</th>\n",
       "    </tr>\n",
       "  </thead>\n",
       "  <tbody>\n",
       "    <tr>\n",
       "      <th>0</th>\n",
       "      <td>200901</td>\n",
       "      <td>LFPG</td>\n",
       "      <td>LC</td>\n",
       "      <td>I</td>\n",
       "      <td>A</td>\n",
       "      <td>1</td>\n",
       "      <td>2</td>\n",
       "      <td>2</td>\n",
       "      <td>0,001</td>\n",
       "      <td>0,001</td>\n",
       "      <td>0,000</td>\n",
       "      <td>0,000</td>\n",
       "    </tr>\n",
       "    <tr>\n",
       "      <th>1</th>\n",
       "      <td>200901</td>\n",
       "      <td>LFPG</td>\n",
       "      <td>LC</td>\n",
       "      <td>I</td>\n",
       "      <td>B</td>\n",
       "      <td>379</td>\n",
       "      <td>30462</td>\n",
       "      <td>31019</td>\n",
       "      <td>0,537</td>\n",
       "      <td>2,251</td>\n",
       "      <td>0,324</td>\n",
       "      <td>0,085</td>\n",
       "    </tr>\n",
       "  </tbody>\n",
       "</table style=\"display:inline\"><table style=\"display:inline\" border=\"1\" class=\"dataframe\">\n",
       "  <thead>\n",
       "    <tr style=\"text-align: right;\">\n",
       "      <th></th>\n",
       "      <th>APT</th>\n",
       "      <th>ANMOIS</th>\n",
       "      <th>CO2</th>\n",
       "      <th>NOX</th>\n",
       "      <th>COVNM</th>\n",
       "      <th>TSP</th>\n",
       "    </tr>\n",
       "  </thead>\n",
       "  <tbody>\n",
       "    <tr>\n",
       "      <th>0</th>\n",
       "      <td>LFBD</td>\n",
       "      <td>200001</td>\n",
       "      <td>2.421</td>\n",
       "      <td>9.580</td>\n",
       "      <td>1.295</td>\n",
       "      <td>0.384</td>\n",
       "    </tr>\n",
       "    <tr>\n",
       "      <th>1</th>\n",
       "      <td>LFBD</td>\n",
       "      <td>200002</td>\n",
       "      <td>2.316</td>\n",
       "      <td>9.172</td>\n",
       "      <td>1.113</td>\n",
       "      <td>0.367</td>\n",
       "    </tr>\n",
       "  </tbody>\n",
       "</table style=\"display:inline\">"
      ]
     },
     "metadata": {},
     "output_type": "display_data"
    }
   ],
   "source": [
    "# remove null values\n",
    "df_emi1 = df_emi.fillna(value='0').copy()\n",
    "# set values as numeric\n",
    "df_emi1[['CO2','NOX','COVNM','TSP']] = df_emi1[\n",
    "    ['CO2','NOX','COVNM','TSP']\n",
    "].applymap(lambda val: val.replace(',','.')).apply(pd.to_numeric)\n",
    "# get average delay per apt\n",
    "df_emi_permonth = df_emi1.groupby(['APT','ANMOIS'])[['CO2','NOX','COVNM','TSP']].agg('sum').reset_index()\n",
    "\n",
    "display_side_by_side([df_emi.head(2),df_emi_permonth.head(2)])"
   ]
  },
  {
   "cell_type": "markdown",
   "metadata": {
    "colab_type": "text",
    "id": "ZnyEDIvoj3BD"
   },
   "source": [
    "## Add in out pax ratio"
   ]
  },
  {
   "cell_type": "code",
   "execution_count": 39,
   "metadata": {
    "colab": {
     "autoexec": {
      "startup": false,
      "wait_interval": 0
     },
     "base_uri": "https://localhost:8080/",
     "height": 204
    },
    "colab_type": "code",
    "executionInfo": {
     "elapsed": 1932,
     "status": "ok",
     "timestamp": 1527520675511,
     "user": {
      "displayName": "FAUSTO Angelina",
      "photoUrl": "https://lh3.googleusercontent.com/a/default-user=s128",
      "userId": "107095745517777384530"
     },
     "user_tz": -120
    },
    "id": "aLGUFNcskRMJ",
    "outputId": "3fe09ade-e355-4a43-e5ef-f6d22fb2a886"
   },
   "outputs": [
    {
     "data": {
      "text/html": [
       "<div>\n",
       "<style scoped>\n",
       "    .dataframe tbody tr th:only-of-type {\n",
       "        vertical-align: middle;\n",
       "    }\n",
       "\n",
       "    .dataframe tbody tr th {\n",
       "        vertical-align: top;\n",
       "    }\n",
       "\n",
       "    .dataframe thead th {\n",
       "        text-align: right;\n",
       "    }\n",
       "</style>\n",
       "<table border=\"1\" class=\"dataframe\">\n",
       "  <thead>\n",
       "    <tr style=\"text-align: right;\">\n",
       "      <th></th>\n",
       "      <th>ANMOIS</th>\n",
       "      <th>APT</th>\n",
       "      <th>PAX_FS_IN</th>\n",
       "      <th>PAX_FS_OUT</th>\n",
       "      <th>PAX_RATIO</th>\n",
       "    </tr>\n",
       "  </thead>\n",
       "  <tbody>\n",
       "    <tr>\n",
       "      <th>107485</th>\n",
       "      <td>201803</td>\n",
       "      <td>ZPPP</td>\n",
       "      <td>1673.0</td>\n",
       "      <td>1928.0</td>\n",
       "      <td>0.464593</td>\n",
       "    </tr>\n",
       "    <tr>\n",
       "      <th>107486</th>\n",
       "      <td>201803</td>\n",
       "      <td>ZSPD</td>\n",
       "      <td>37937.0</td>\n",
       "      <td>38917.0</td>\n",
       "      <td>0.493624</td>\n",
       "    </tr>\n",
       "    <tr>\n",
       "      <th>107487</th>\n",
       "      <td>201803</td>\n",
       "      <td>ZUUU</td>\n",
       "      <td>2527.0</td>\n",
       "      <td>3248.0</td>\n",
       "      <td>0.437576</td>\n",
       "    </tr>\n",
       "    <tr>\n",
       "      <th>107488</th>\n",
       "      <td>201803</td>\n",
       "      <td>ZZM_</td>\n",
       "      <td>82208.0</td>\n",
       "      <td>81579.0</td>\n",
       "      <td>0.501920</td>\n",
       "    </tr>\n",
       "    <tr>\n",
       "      <th>107489</th>\n",
       "      <td>201803</td>\n",
       "      <td>ZZO_</td>\n",
       "      <td>1195.0</td>\n",
       "      <td>1407.0</td>\n",
       "      <td>0.459262</td>\n",
       "    </tr>\n",
       "  </tbody>\n",
       "</table>\n",
       "</div>"
      ],
      "text/plain": [
       "        ANMOIS   APT  PAX_FS_IN  PAX_FS_OUT  PAX_RATIO\n",
       "107485  201803  ZPPP     1673.0      1928.0   0.464593\n",
       "107486  201803  ZSPD    37937.0     38917.0   0.493624\n",
       "107487  201803  ZUUU     2527.0      3248.0   0.437576\n",
       "107488  201803  ZZM_    82208.0     81579.0   0.501920\n",
       "107489  201803  ZZO_     1195.0      1407.0   0.459262"
      ]
     },
     "execution_count": 39,
     "metadata": {},
     "output_type": "execute_result"
    }
   ],
   "source": [
    "df_tra_edit = df_tra.copy()\n",
    "\n",
    "df_tra_edit['PAX_FS_OUT'] = df_tra_edit['PAX_FS']\n",
    "df_tra_edit['PAX_FS_IN'] = df_tra_edit['PAX_FS']\n",
    "\n",
    "df_paxOut = df_tra_edit.loc[:,['ANMOIS','DEP','PAX_FS_OUT']]\n",
    "df_paxIn = df_tra_edit.loc[:,['ANMOIS','ARR','PAX_FS_IN']]\n",
    "df_paxOut = df_paxOut.rename(columns = {\"DEP\": \"APT\"})\n",
    "df_paxIn = df_paxIn.rename(columns = {\"ARR\": \"APT\"})\n",
    "\n",
    "df_pax_mvt = df_paxOut.append(df_paxIn).fillna(0)\n",
    "#df_pax_mvt['YEAR'] = df_pax_mvt['ANMOIS'].fillna(0).apply(lambda val: val//100).astype(int).astype(str)\n",
    "\n",
    "df_pax_mvt_gb = df_pax_mvt.groupby(['ANMOIS','APT'])[['PAX_FS_IN','PAX_FS_OUT']].agg('sum').reset_index()\n",
    "df_pax_mvt_gb['PAX_RATIO'] = (df_pax_mvt_gb['PAX_FS_IN']/(df_pax_mvt_gb['PAX_FS_IN']+df_pax_mvt_gb['PAX_FS_OUT']))\n",
    "df_pax_mvt_gb.tail()\n",
    "# df_pax_mvt_gb.fillna(0).describe()"
   ]
  },
  {
   "cell_type": "markdown",
   "metadata": {
    "colab_type": "text",
    "id": "0qI9P3kuIJH3"
   },
   "source": [
    "### Join with apts"
   ]
  },
  {
   "cell_type": "code",
   "execution_count": 51,
   "metadata": {
    "colab": {
     "autoexec": {
      "startup": false,
      "wait_interval": 0
     },
     "base_uri": "https://localhost:8080/",
     "height": 210
    },
    "colab_type": "code",
    "executionInfo": {
     "elapsed": 503,
     "status": "ok",
     "timestamp": 1527515771727,
     "user": {
      "displayName": "FAUSTO Angelina",
      "photoUrl": "https://lh3.googleusercontent.com/a/default-user=s128",
      "userId": "107095745517777384530"
     },
     "user_tz": -120
    },
    "id": "6z0EVVQ-i5Wh",
    "outputId": "6157109b-ea9a-4349-a42a-0ce52fb9e8af"
   },
   "outputs": [
    {
     "data": {
      "text/plain": [
       "(73942, 14)"
      ]
     },
     "metadata": {},
     "output_type": "display_data"
    },
    {
     "data": {
      "text/html": [
       "<div>\n",
       "<style scoped>\n",
       "    .dataframe tbody tr th:only-of-type {\n",
       "        vertical-align: middle;\n",
       "    }\n",
       "\n",
       "    .dataframe tbody tr th {\n",
       "        vertical-align: top;\n",
       "    }\n",
       "\n",
       "    .dataframe thead th {\n",
       "        text-align: right;\n",
       "    }\n",
       "</style>\n",
       "<table border=\"1\" class=\"dataframe\">\n",
       "  <thead>\n",
       "    <tr style=\"text-align: right;\">\n",
       "      <th></th>\n",
       "      <th>APT</th>\n",
       "      <th>ANMOIS</th>\n",
       "      <th>CO2</th>\n",
       "      <th>NOX</th>\n",
       "      <th>COVNM</th>\n",
       "      <th>TSP</th>\n",
       "      <th>RETARD_D</th>\n",
       "      <th>PAX_RATIO</th>\n",
       "      <th>APT_NOM</th>\n",
       "      <th>APT_PAYS</th>\n",
       "      <th>APT_LAT</th>\n",
       "      <th>APT_LONG</th>\n",
       "      <th>YEAR</th>\n",
       "      <th>MONTH</th>\n",
       "    </tr>\n",
       "  </thead>\n",
       "  <tbody>\n",
       "    <tr>\n",
       "      <th>0</th>\n",
       "      <td>LFBD</td>\n",
       "      <td>201201</td>\n",
       "      <td>2.932</td>\n",
       "      <td>13.106</td>\n",
       "      <td>0.860</td>\n",
       "      <td>0.465</td>\n",
       "      <td>10.292000</td>\n",
       "      <td>0.490092</td>\n",
       "      <td>BORDEAUX-MERIGNAC</td>\n",
       "      <td>France (Métrop.)</td>\n",
       "      <td>44.83</td>\n",
       "      <td>-0.72</td>\n",
       "      <td>2012</td>\n",
       "      <td>1</td>\n",
       "    </tr>\n",
       "    <tr>\n",
       "      <th>2</th>\n",
       "      <td>LFBD</td>\n",
       "      <td>201202</td>\n",
       "      <td>2.793</td>\n",
       "      <td>12.570</td>\n",
       "      <td>0.790</td>\n",
       "      <td>0.444</td>\n",
       "      <td>13.008333</td>\n",
       "      <td>0.481242</td>\n",
       "      <td>BORDEAUX-MERIGNAC</td>\n",
       "      <td>France (Métrop.)</td>\n",
       "      <td>44.83</td>\n",
       "      <td>-0.72</td>\n",
       "      <td>2012</td>\n",
       "      <td>2</td>\n",
       "    </tr>\n",
       "    <tr>\n",
       "      <th>4</th>\n",
       "      <td>LFBD</td>\n",
       "      <td>201203</td>\n",
       "      <td>3.262</td>\n",
       "      <td>14.708</td>\n",
       "      <td>0.922</td>\n",
       "      <td>0.517</td>\n",
       "      <td>8.576923</td>\n",
       "      <td>0.517088</td>\n",
       "      <td>BORDEAUX-MERIGNAC</td>\n",
       "      <td>France (Métrop.)</td>\n",
       "      <td>44.83</td>\n",
       "      <td>-0.72</td>\n",
       "      <td>2012</td>\n",
       "      <td>3</td>\n",
       "    </tr>\n",
       "  </tbody>\n",
       "</table>\n",
       "</div>"
      ],
      "text/plain": [
       "    APT  ANMOIS    CO2     NOX  COVNM    TSP   RETARD_D  PAX_RATIO  \\\n",
       "0  LFBD  201201  2.932  13.106  0.860  0.465  10.292000   0.490092   \n",
       "2  LFBD  201202  2.793  12.570  0.790  0.444  13.008333   0.481242   \n",
       "4  LFBD  201203  3.262  14.708  0.922  0.517   8.576923   0.517088   \n",
       "\n",
       "             APT_NOM          APT_PAYS  APT_LAT  APT_LONG  YEAR MONTH  \n",
       "0  BORDEAUX-MERIGNAC  France (Métrop.)    44.83     -0.72  2012     1  \n",
       "2  BORDEAUX-MERIGNAC  France (Métrop.)    44.83     -0.72  2012     2  \n",
       "4  BORDEAUX-MERIGNAC  France (Métrop.)    44.83     -0.72  2012     3  "
      ]
     },
     "metadata": {},
     "output_type": "display_data"
    }
   ],
   "source": [
    "# join delays with apts\n",
    "df_ret_emi = pd.merge(df_emi_permonth, df_ret_permonth,\n",
    "                        how='outer', left_on=['APT','ANMOIS'],right_on=['DEP','ANMOIS']\n",
    "                       ).drop_duplicates().fillna(0)\n",
    "df_ret_emi = df_ret_emi[df_ret_emi.APT == df_ret_emi.DEP]\n",
    "df_ret_emi = df_ret_emi.dropna(subset=['APT','DEP'])\n",
    "\n",
    "df_apt_clean0 = pd.merge(\n",
    "    df_ret_emi, \n",
    "    df_pax_mvt_gb.loc[:,['ANMOIS','APT','PAX_RATIO']], \n",
    "    how='outer', on=['APT','ANMOIS']\n",
    ")\n",
    "\n",
    "df_apt_clean1 = pd.merge(df_apt_clean0, df_apt, how='outer', left_on='APT', right_on='APT_OACI')\n",
    "\n",
    "# split year and month\n",
    "df_apt_clean2 = df_apt_clean1.copy()\n",
    "df_apt_clean2['YEAR'] = df_apt_clean2['ANMOIS'].fillna(0).apply(lambda val: val//100).astype(int)#.astype(str)\n",
    "df_apt_clean2['MONTH'] = df_apt_clean2['ANMOIS'].fillna(0).apply(lambda val: val%100).astype(int).astype(str)\n",
    "# set values as numeric\n",
    "df_apt_clean2[['APT_LAT','APT_LONG']] = (\n",
    "    df_apt_clean2[['APT_LAT','APT_LONG']]\n",
    "    .fillna('0')\n",
    "    .applymap(lambda val: val.replace(',','.'))\n",
    "    .apply(pd.to_numeric))\n",
    "\n",
    "df_apt_clean2['APT'] = df_apt_clean2['APT_OACI']\n",
    "df_apt_clean2['YEAR'] = df_apt_clean2['YEAR'].fillna('null')\n",
    "df_apt_clean2['ANMOIS'] = df_apt_clean2['ANMOIS'].fillna(0).astype(int).astype(str)\n",
    "df_apt_clean3 = (df_apt_clean2\n",
    "                 .drop(columns=['DEP','APT_OACI','APT_IATA','APT_ISO2','PAYS_ZON','PAYS_FSC'])\n",
    "                 .drop_duplicates()\n",
    "                 .fillna(0))\n",
    "# df_apt_clean3 = df_apt_clean3[df_apt_clean3.ANMOIS != '0']\n",
    "\n",
    "df_apt_clean = df_apt_clean3[df_apt_clean3.YEAR > 1999].copy()\n",
    "\n",
    "display(df_apt_clean.shape, df_apt_clean[df_apt_clean.RETARD_D > 0].head(3))"
   ]
  },
  {
   "cell_type": "markdown",
   "metadata": {
    "colab_type": "text",
    "id": "aVSpE7QiIJH9"
   },
   "source": [
    "# create dict grouped by APT, YEAR"
   ]
  },
  {
   "cell_type": "code",
   "execution_count": 57,
   "metadata": {
    "colab": {
     "autoexec": {
      "startup": false,
      "wait_interval": 0
     }
    },
    "colab_type": "code",
    "id": "5hWRfRz6IJH9"
   },
   "outputs": [
    {
     "data": {
      "text/html": [
       "<div>\n",
       "<style scoped>\n",
       "    .dataframe tbody tr th:only-of-type {\n",
       "        vertical-align: middle;\n",
       "    }\n",
       "\n",
       "    .dataframe tbody tr th {\n",
       "        vertical-align: top;\n",
       "    }\n",
       "\n",
       "    .dataframe thead th {\n",
       "        text-align: right;\n",
       "    }\n",
       "</style>\n",
       "<table border=\"1\" class=\"dataframe\">\n",
       "  <thead>\n",
       "    <tr style=\"text-align: right;\">\n",
       "      <th></th>\n",
       "      <th>APT</th>\n",
       "      <th>ANMOIS</th>\n",
       "      <th>CO2</th>\n",
       "      <th>NOX</th>\n",
       "      <th>COVNM</th>\n",
       "      <th>TSP</th>\n",
       "      <th>RETARD_D</th>\n",
       "      <th>PAX_RATIO</th>\n",
       "      <th>APT_NOM</th>\n",
       "      <th>APT_PAYS</th>\n",
       "      <th>APT_LAT</th>\n",
       "      <th>APT_LONG</th>\n",
       "      <th>YEAR</th>\n",
       "      <th>MONTH</th>\n",
       "    </tr>\n",
       "  </thead>\n",
       "  <tbody>\n",
       "    <tr>\n",
       "      <th>0</th>\n",
       "      <td>LFBD</td>\n",
       "      <td>201201</td>\n",
       "      <td>2.932</td>\n",
       "      <td>13.106</td>\n",
       "      <td>0.860</td>\n",
       "      <td>0.465</td>\n",
       "      <td>10.292000</td>\n",
       "      <td>0.490092</td>\n",
       "      <td>BORDEAUX-MERIGNAC</td>\n",
       "      <td>France (Métrop.)</td>\n",
       "      <td>44.83</td>\n",
       "      <td>-0.72</td>\n",
       "      <td>2012</td>\n",
       "      <td>1</td>\n",
       "    </tr>\n",
       "    <tr>\n",
       "      <th>2</th>\n",
       "      <td>LFBD</td>\n",
       "      <td>201202</td>\n",
       "      <td>2.793</td>\n",
       "      <td>12.570</td>\n",
       "      <td>0.790</td>\n",
       "      <td>0.444</td>\n",
       "      <td>13.008333</td>\n",
       "      <td>0.481242</td>\n",
       "      <td>BORDEAUX-MERIGNAC</td>\n",
       "      <td>France (Métrop.)</td>\n",
       "      <td>44.83</td>\n",
       "      <td>-0.72</td>\n",
       "      <td>2012</td>\n",
       "      <td>2</td>\n",
       "    </tr>\n",
       "    <tr>\n",
       "      <th>4</th>\n",
       "      <td>LFBD</td>\n",
       "      <td>201203</td>\n",
       "      <td>3.262</td>\n",
       "      <td>14.708</td>\n",
       "      <td>0.922</td>\n",
       "      <td>0.517</td>\n",
       "      <td>8.576923</td>\n",
       "      <td>0.517088</td>\n",
       "      <td>BORDEAUX-MERIGNAC</td>\n",
       "      <td>France (Métrop.)</td>\n",
       "      <td>44.83</td>\n",
       "      <td>-0.72</td>\n",
       "      <td>2012</td>\n",
       "      <td>3</td>\n",
       "    </tr>\n",
       "    <tr>\n",
       "      <th>6</th>\n",
       "      <td>LFBD</td>\n",
       "      <td>201204</td>\n",
       "      <td>3.223</td>\n",
       "      <td>14.394</td>\n",
       "      <td>0.901</td>\n",
       "      <td>0.512</td>\n",
       "      <td>18.654839</td>\n",
       "      <td>0.492000</td>\n",
       "      <td>BORDEAUX-MERIGNAC</td>\n",
       "      <td>France (Métrop.)</td>\n",
       "      <td>44.83</td>\n",
       "      <td>-0.72</td>\n",
       "      <td>2012</td>\n",
       "      <td>4</td>\n",
       "    </tr>\n",
       "    <tr>\n",
       "      <th>8</th>\n",
       "      <td>LFBD</td>\n",
       "      <td>201205</td>\n",
       "      <td>3.481</td>\n",
       "      <td>15.612</td>\n",
       "      <td>1.011</td>\n",
       "      <td>0.553</td>\n",
       "      <td>9.469697</td>\n",
       "      <td>0.505219</td>\n",
       "      <td>BORDEAUX-MERIGNAC</td>\n",
       "      <td>France (Métrop.)</td>\n",
       "      <td>44.83</td>\n",
       "      <td>-0.72</td>\n",
       "      <td>2012</td>\n",
       "      <td>5</td>\n",
       "    </tr>\n",
       "    <tr>\n",
       "      <th>10</th>\n",
       "      <td>LFBD</td>\n",
       "      <td>201206</td>\n",
       "      <td>3.658</td>\n",
       "      <td>16.316</td>\n",
       "      <td>1.018</td>\n",
       "      <td>0.580</td>\n",
       "      <td>11.888235</td>\n",
       "      <td>0.506224</td>\n",
       "      <td>BORDEAUX-MERIGNAC</td>\n",
       "      <td>France (Métrop.)</td>\n",
       "      <td>44.83</td>\n",
       "      <td>-0.72</td>\n",
       "      <td>2012</td>\n",
       "      <td>6</td>\n",
       "    </tr>\n",
       "    <tr>\n",
       "      <th>12</th>\n",
       "      <td>LFBD</td>\n",
       "      <td>201207</td>\n",
       "      <td>3.725</td>\n",
       "      <td>16.739</td>\n",
       "      <td>1.024</td>\n",
       "      <td>0.590</td>\n",
       "      <td>13.107895</td>\n",
       "      <td>0.495208</td>\n",
       "      <td>BORDEAUX-MERIGNAC</td>\n",
       "      <td>France (Métrop.)</td>\n",
       "      <td>44.83</td>\n",
       "      <td>-0.72</td>\n",
       "      <td>2012</td>\n",
       "      <td>7</td>\n",
       "    </tr>\n",
       "    <tr>\n",
       "      <th>14</th>\n",
       "      <td>LFBD</td>\n",
       "      <td>201208</td>\n",
       "      <td>3.529</td>\n",
       "      <td>15.858</td>\n",
       "      <td>0.943</td>\n",
       "      <td>0.560</td>\n",
       "      <td>13.835135</td>\n",
       "      <td>0.497584</td>\n",
       "      <td>BORDEAUX-MERIGNAC</td>\n",
       "      <td>France (Métrop.)</td>\n",
       "      <td>44.83</td>\n",
       "      <td>-0.72</td>\n",
       "      <td>2012</td>\n",
       "      <td>8</td>\n",
       "    </tr>\n",
       "    <tr>\n",
       "      <th>16</th>\n",
       "      <td>LFBD</td>\n",
       "      <td>201209</td>\n",
       "      <td>3.629</td>\n",
       "      <td>16.101</td>\n",
       "      <td>0.977</td>\n",
       "      <td>0.576</td>\n",
       "      <td>16.668571</td>\n",
       "      <td>0.504509</td>\n",
       "      <td>BORDEAUX-MERIGNAC</td>\n",
       "      <td>France (Métrop.)</td>\n",
       "      <td>44.83</td>\n",
       "      <td>-0.72</td>\n",
       "      <td>2012</td>\n",
       "      <td>9</td>\n",
       "    </tr>\n",
       "    <tr>\n",
       "      <th>18</th>\n",
       "      <td>LFBD</td>\n",
       "      <td>201210</td>\n",
       "      <td>3.589</td>\n",
       "      <td>15.852</td>\n",
       "      <td>0.949</td>\n",
       "      <td>0.570</td>\n",
       "      <td>15.415152</td>\n",
       "      <td>0.486246</td>\n",
       "      <td>BORDEAUX-MERIGNAC</td>\n",
       "      <td>France (Métrop.)</td>\n",
       "      <td>44.83</td>\n",
       "      <td>-0.72</td>\n",
       "      <td>2012</td>\n",
       "      <td>10</td>\n",
       "    </tr>\n",
       "  </tbody>\n",
       "</table>\n",
       "</div>"
      ],
      "text/plain": [
       "     APT  ANMOIS    CO2     NOX  COVNM    TSP   RETARD_D  PAX_RATIO  \\\n",
       "0   LFBD  201201  2.932  13.106  0.860  0.465  10.292000   0.490092   \n",
       "2   LFBD  201202  2.793  12.570  0.790  0.444  13.008333   0.481242   \n",
       "4   LFBD  201203  3.262  14.708  0.922  0.517   8.576923   0.517088   \n",
       "6   LFBD  201204  3.223  14.394  0.901  0.512  18.654839   0.492000   \n",
       "8   LFBD  201205  3.481  15.612  1.011  0.553   9.469697   0.505219   \n",
       "10  LFBD  201206  3.658  16.316  1.018  0.580  11.888235   0.506224   \n",
       "12  LFBD  201207  3.725  16.739  1.024  0.590  13.107895   0.495208   \n",
       "14  LFBD  201208  3.529  15.858  0.943  0.560  13.835135   0.497584   \n",
       "16  LFBD  201209  3.629  16.101  0.977  0.576  16.668571   0.504509   \n",
       "18  LFBD  201210  3.589  15.852  0.949  0.570  15.415152   0.486246   \n",
       "\n",
       "              APT_NOM          APT_PAYS  APT_LAT  APT_LONG  YEAR MONTH  \n",
       "0   BORDEAUX-MERIGNAC  France (Métrop.)    44.83     -0.72  2012     1  \n",
       "2   BORDEAUX-MERIGNAC  France (Métrop.)    44.83     -0.72  2012     2  \n",
       "4   BORDEAUX-MERIGNAC  France (Métrop.)    44.83     -0.72  2012     3  \n",
       "6   BORDEAUX-MERIGNAC  France (Métrop.)    44.83     -0.72  2012     4  \n",
       "8   BORDEAUX-MERIGNAC  France (Métrop.)    44.83     -0.72  2012     5  \n",
       "10  BORDEAUX-MERIGNAC  France (Métrop.)    44.83     -0.72  2012     6  \n",
       "12  BORDEAUX-MERIGNAC  France (Métrop.)    44.83     -0.72  2012     7  \n",
       "14  BORDEAUX-MERIGNAC  France (Métrop.)    44.83     -0.72  2012     8  \n",
       "16  BORDEAUX-MERIGNAC  France (Métrop.)    44.83     -0.72  2012     9  \n",
       "18  BORDEAUX-MERIGNAC  France (Métrop.)    44.83     -0.72  2012    10  "
      ]
     },
     "metadata": {},
     "output_type": "display_data"
    },
    {
     "data": {
      "text/plain": [
       "665"
      ]
     },
     "metadata": {},
     "output_type": "display_data"
    }
   ],
   "source": [
    "interesting_values = ['CO2','NOX','COVNM','TSP','RETARD_D','PAX_RATIO']\n",
    "def populate_emi_json_per_year(row, dct, vals):\n",
    "    empty_dict = {}\n",
    "    for val in vals:\n",
    "        empty_dict[val] = {'val': 0,'color':0,'monthly':{\n",
    "            '1':0,'2':0,'3':0,'4':0,'5':0,'6':0,'7':0,'8':0,'9':0,'10':0,'11':0,'12':0}}\n",
    "    # fill global data\n",
    "    if dct.get(row['APT']) is None:\n",
    "        dct[row['APT']] = {\n",
    "            'APT': row['APT'],'APT_NOM': row['APT_NOM'], 'APT_PAYS': row['APT_PAYS'], \n",
    "            'APT_LAT': row['APT_LAT'], 'APT_LONG': row['APT_LONG'], 'data': {}}\n",
    "    # fill by year\n",
    "    if row['YEAR']is not 'null':\n",
    "        if dct[row['APT']]['data'].get(row['YEAR']) is None:\n",
    "            dct[row['APT']]['data'][row['YEAR']] = empty_dict\n",
    "        # get value\n",
    "        for val in vals:\n",
    "            if (val == 'PAX_RATIO'):\n",
    "                dct[row['APT']]['data'][row['YEAR']][val]['val'] += row[val]/12\n",
    "                try:\n",
    "                    dct[row['APT']]['data'][row['YEAR']][val]['monthly'][row['MONTH']] += row[val]\n",
    "                except KeyError:\n",
    "                    display(row)\n",
    "            else:\n",
    "                dct[row['APT']]['data'][row['YEAR']][val]['val'] += row[val]\n",
    "                try:\n",
    "                    dct[row['APT']]['data'][row['YEAR']][val]['monthly'][row['MONTH']] += row[val]\n",
    "                except KeyError:\n",
    "                    display(row)\n",
    "\n",
    "# create dict from df\n",
    "dict_per_year = {}\n",
    "a = df_apt_clean.apply(populate_emi_json_per_year, axis=1, args=(dict_per_year,interesting_values))\n",
    "display(df_apt_clean.head(10),len(dict_per_year))"
   ]
  },
  {
   "cell_type": "markdown",
   "metadata": {
    "colab_type": "text",
    "id": "Wqx9QyxiIJIB"
   },
   "source": [
    "### Add color index based on percentile"
   ]
  },
  {
   "cell_type": "code",
   "execution_count": 58,
   "metadata": {
    "colab": {
     "autoexec": {
      "startup": false,
      "wait_interval": 0
     }
    },
    "colab_type": "code",
    "id": "JmxLiwDFIJIC"
   },
   "outputs": [],
   "source": [
    "def fill_colors(dct, years, vals):\n",
    "    yt,ot,rt = 0,0,0\n",
    "    # get data samples\n",
    "    for year in years:\n",
    "        for val in vals:\n",
    "            tmp_val = []\n",
    "            for key, row in dct.items():\n",
    "                try:\n",
    "                    tmp_val.append(row['data'][year][val]['val'])\n",
    "                except KeyError:\n",
    "                    tmp_val.append(0)\n",
    "            # get mean etc\n",
    "            a = np.array(tmp_val)\n",
    "            a = a[a != 0]\n",
    "            if a.size > 0:\n",
    "                yt = np.percentile(a, 40) # yellow threshold\n",
    "                ot = np.percentile(a, 70) # orange threshold\n",
    "                rt = np.percentile(a, 90) # red threshold\n",
    "                # fill the color\n",
    "                for key, row in dct.items():\n",
    "                    try:\n",
    "                        dct[key]['data'][year][val]['color'] = get_color(yt,ot,rt, row['data'][year][val]['val'])\n",
    "                    except KeyError:\n",
    "                        pass\n",
    "def get_color(yt,ot,rt,val):\n",
    "    if (val > rt): return 4\n",
    "    if (val > ot): return 3\n",
    "    if (val > yt): return 2\n",
    "    if (val > 0): return 1\n",
    "    return 0\n",
    "\n",
    "# fill colors (based on percentile)\n",
    "fill_colors(dict_per_year, df_apt_clean.YEAR.unique().tolist(),interesting_values)\n",
    "# display(len(dict_emi_per_year), dict_emi_per_year)"
   ]
  },
  {
   "cell_type": "markdown",
   "metadata": {
    "colab_type": "text",
    "id": "M2VaeKL-IJIF"
   },
   "source": [
    "### Turn dict into list of apts"
   ]
  },
  {
   "cell_type": "code",
   "execution_count": 59,
   "metadata": {
    "colab": {
     "autoexec": {
      "startup": false,
      "wait_interval": 0
     },
     "base_uri": "https://localhost:8080/",
     "height": 34
    },
    "colab_type": "code",
    "executionInfo": {
     "elapsed": 528,
     "status": "ok",
     "timestamp": 1527494863697,
     "user": {
      "displayName": "tanguy racinet",
      "photoUrl": "https://lh3.googleusercontent.com/a/default-user=s128",
      "userId": "101148734551032567677"
     },
     "user_tz": -120
    },
    "id": "Xnu_GEc6IJIG",
    "outputId": "f3323bbf-a95f-46f5-e18c-fd7130f66042"
   },
   "outputs": [
    {
     "data": {
      "text/plain": [
       "665"
      ]
     },
     "metadata": {},
     "output_type": "display_data"
    }
   ],
   "source": [
    "apts = []\n",
    "for apt_key, apt_data in dict_per_year.items():\n",
    "    apts.append(apt_data)\n",
    "    \n",
    "display(len(apts))"
   ]
  },
  {
   "cell_type": "markdown",
   "metadata": {
    "colab_type": "text",
    "id": "3P3L2wkyIJII"
   },
   "source": [
    "# Save json"
   ]
  },
  {
   "cell_type": "code",
   "execution_count": 60,
   "metadata": {},
   "outputs": [],
   "source": [
    "import json\n",
    "\n",
    "with open('./data/data.json', 'w') as fp:\n",
    "    json.dump(apts, fp, ensure_ascii=False)"
   ]
  },
  {
   "cell_type": "markdown",
   "metadata": {
    "colab_type": "text",
    "id": "N8qcLMcYIJIR"
   },
   "source": [
    "# study delays"
   ]
  },
  {
   "cell_type": "code",
   "execution_count": 11,
   "metadata": {
    "colab": {
     "autoexec": {
      "startup": false,
      "wait_interval": 0
     },
     "base_uri": "https://localhost:8080/",
     "height": 128
    },
    "colab_type": "code",
    "executionInfo": {
     "elapsed": 765,
     "status": "ok",
     "timestamp": 1527427277024,
     "user": {
      "displayName": "tanguy racinet",
      "photoUrl": "https://lh3.googleusercontent.com/a/default-user=s128",
      "userId": "101148734551032567677"
     },
     "user_tz": -120
    },
    "id": "RPBdnXtLIJIR",
    "outputId": "83349752-8952-4383-bb08-57ad21a1478a"
   },
   "outputs": [
    {
     "data": {
      "text/plain": [
       "(187375, 7)"
      ]
     },
     "metadata": {
      "tags": []
     },
     "output_type": "display_data"
    },
    {
     "data": {
      "text/html": [
       "<div>\n",
       "<style scoped>\n",
       "    .dataframe tbody tr th:only-of-type {\n",
       "        vertical-align: middle;\n",
       "    }\n",
       "\n",
       "    .dataframe tbody tr th {\n",
       "        vertical-align: top;\n",
       "    }\n",
       "\n",
       "    .dataframe thead th {\n",
       "        text-align: right;\n",
       "    }\n",
       "</style>\n",
       "<table border=\"1\" class=\"dataframe\">\n",
       "  <thead>\n",
       "    <tr style=\"text-align: right;\">\n",
       "      <th></th>\n",
       "      <th>ANMOIS</th>\n",
       "      <th>DEP</th>\n",
       "      <th>ARR</th>\n",
       "      <th>PC15_D</th>\n",
       "      <th>PC15_A</th>\n",
       "      <th>RETARD_D</th>\n",
       "      <th>RETARD_A</th>\n",
       "    </tr>\n",
       "  </thead>\n",
       "  <tbody>\n",
       "    <tr>\n",
       "      <th>0</th>\n",
       "      <td>201209</td>\n",
       "      <td>LEBL</td>\n",
       "      <td>LFSB</td>\n",
       "      <td>NaN</td>\n",
       "      <td>0,101</td>\n",
       "      <td>NaN</td>\n",
       "      <td>4,7</td>\n",
       "    </tr>\n",
       "    <tr>\n",
       "      <th>1</th>\n",
       "      <td>201209</td>\n",
       "      <td>LEBL</td>\n",
       "      <td>LFLL</td>\n",
       "      <td>NaN</td>\n",
       "      <td>0,087</td>\n",
       "      <td>NaN</td>\n",
       "      <td>5,0</td>\n",
       "    </tr>\n",
       "  </tbody>\n",
       "</table>\n",
       "</div>"
      ],
      "text/plain": [
       "   ANMOIS   DEP   ARR PC15_D PC15_A RETARD_D RETARD_A\n",
       "0  201209  LEBL  LFSB    NaN  0,101      NaN      4,7\n",
       "1  201209  LEBL  LFLL    NaN  0,087      NaN      5,0"
      ]
     },
     "metadata": {
      "tags": []
     },
     "output_type": "display_data"
    }
   ],
   "source": [
    "display(df_ret.shape, df_ret.head(2))"
   ]
  },
  {
   "cell_type": "code",
   "execution_count": 0,
   "metadata": {
    "colab": {
     "autoexec": {
      "startup": false,
      "wait_interval": 0
     }
    },
    "colab_type": "code",
    "id": "Lmx-4L7uIJIU"
   },
   "outputs": [],
   "source": [
    "# remove null values\n",
    "df_ret = df_ret.fillna(value='0')\n",
    "\n",
    "# set values as numeric\n",
    "df_ret[['PC15_D','PC15_A','RETARD_D','RETARD_A']] = df_ret[\n",
    "    ['PC15_D','PC15_A','RETARD_D','RETARD_A']\n",
    "].applymap(lambda val: val.replace(',','.')).apply(pd.to_numeric)\n",
    "\n",
    "# split year and month\n",
    "df_ret['YEAR'] = df_ret['ANMOIS'].apply(lambda val: val//100)\n",
    "df_ret['MONTH'] = df_ret['ANMOIS'].apply(lambda val: val%100)\n",
    "\n",
    "# add airport names (human readable)\n",
    "apt_names = {}\n",
    "for row in df_apt[['APT_OACI','APT_NOM']].itertuples():\n",
    "    apt_names[str(row[1])] = row[2]\n",
    "\n",
    "df_ret['DEP_NAME'] = df_ret['DEP'].map(apt_names)\n",
    "df_ret['ARR_NAME'] = df_ret['ARR'].map(apt_names)"
   ]
  },
  {
   "cell_type": "code",
   "execution_count": 13,
   "metadata": {
    "colab": {
     "autoexec": {
      "startup": false,
      "wait_interval": 0
     },
     "base_uri": "https://localhost:8080/",
     "height": 190
    },
    "colab_type": "code",
    "executionInfo": {
     "elapsed": 497,
     "status": "ok",
     "timestamp": 1527427281081,
     "user": {
      "displayName": "tanguy racinet",
      "photoUrl": "https://lh3.googleusercontent.com/a/default-user=s128",
      "userId": "101148734551032567677"
     },
     "user_tz": -120
    },
    "id": "wEf_kw3ZIJIV",
    "outputId": "355432f8-c510-4247-d5f7-fb121f0c8db8"
   },
   "outputs": [
    {
     "data": {
      "text/plain": [
       "(21336, 3)"
      ]
     },
     "metadata": {
      "tags": []
     },
     "output_type": "display_data"
    },
    {
     "data": {
      "text/html": [
       "<div>\n",
       "<style scoped>\n",
       "    .dataframe tbody tr th:only-of-type {\n",
       "        vertical-align: middle;\n",
       "    }\n",
       "\n",
       "    .dataframe tbody tr th {\n",
       "        vertical-align: top;\n",
       "    }\n",
       "\n",
       "    .dataframe thead th {\n",
       "        text-align: right;\n",
       "    }\n",
       "</style>\n",
       "<table border=\"1\" class=\"dataframe\">\n",
       "  <thead>\n",
       "    <tr style=\"text-align: right;\">\n",
       "      <th></th>\n",
       "      <th>YEAR</th>\n",
       "      <th>MONTH</th>\n",
       "      <th>RETARD_D</th>\n",
       "    </tr>\n",
       "    <tr>\n",
       "      <th>DEP</th>\n",
       "      <th></th>\n",
       "      <th></th>\n",
       "      <th></th>\n",
       "    </tr>\n",
       "  </thead>\n",
       "  <tbody>\n",
       "    <tr>\n",
       "      <th>FMCZ</th>\n",
       "      <td>2016</td>\n",
       "      <td>8</td>\n",
       "      <td>9.7</td>\n",
       "    </tr>\n",
       "    <tr>\n",
       "      <th>FMCZ</th>\n",
       "      <td>2017</td>\n",
       "      <td>5</td>\n",
       "      <td>0.2</td>\n",
       "    </tr>\n",
       "    <tr>\n",
       "      <th>FMCZ</th>\n",
       "      <td>2017</td>\n",
       "      <td>6</td>\n",
       "      <td>7.2</td>\n",
       "    </tr>\n",
       "  </tbody>\n",
       "</table>\n",
       "</div>"
      ],
      "text/plain": [
       "      YEAR  MONTH  RETARD_D\n",
       "DEP                        \n",
       "FMCZ  2016      8       9.7\n",
       "FMCZ  2017      5       0.2\n",
       "FMCZ  2017      6       7.2"
      ]
     },
     "metadata": {
      "tags": []
     },
     "output_type": "display_data"
    }
   ],
   "source": [
    "df_ret_year = df_ret.groupby(['DEP','YEAR','MONTH'])['RETARD_D'].agg('mean').reset_index().set_index('DEP')\n",
    "\n",
    "display(df_ret_year.shape, df_ret_year[df_ret_year['RETARD_D'] > 0].head(3))"
   ]
  },
  {
   "cell_type": "code",
   "execution_count": 14,
   "metadata": {
    "colab": {
     "autoexec": {
      "startup": false,
      "wait_interval": 0
     },
     "base_uri": "https://localhost:8080/",
     "height": 301
    },
    "colab_type": "code",
    "executionInfo": {
     "elapsed": 466,
     "status": "ok",
     "timestamp": 1527427285865,
     "user": {
      "displayName": "tanguy racinet",
      "photoUrl": "https://lh3.googleusercontent.com/a/default-user=s128",
      "userId": "101148734551032567677"
     },
     "user_tz": -120
    },
    "id": "DHAdNkYsIJIX",
    "outputId": "253fd1b1-ddd9-47b4-d333-2bbc04864333"
   },
   "outputs": [
    {
     "data": {
      "text/html": [
       "<div>\n",
       "<style scoped>\n",
       "    .dataframe tbody tr th:only-of-type {\n",
       "        vertical-align: middle;\n",
       "    }\n",
       "\n",
       "    .dataframe tbody tr th {\n",
       "        vertical-align: top;\n",
       "    }\n",
       "\n",
       "    .dataframe thead th {\n",
       "        text-align: right;\n",
       "    }\n",
       "</style>\n",
       "<table border=\"1\" class=\"dataframe\">\n",
       "  <thead>\n",
       "    <tr style=\"text-align: right;\">\n",
       "      <th></th>\n",
       "      <th>ANMOIS</th>\n",
       "      <th>DEP</th>\n",
       "      <th>ARR</th>\n",
       "      <th>PC15_D</th>\n",
       "      <th>PC15_A</th>\n",
       "      <th>RETARD_D</th>\n",
       "      <th>RETARD_A</th>\n",
       "      <th>YEAR</th>\n",
       "      <th>MONTH</th>\n",
       "      <th>DEP_NAME</th>\n",
       "      <th>ARR_NAME</th>\n",
       "    </tr>\n",
       "  </thead>\n",
       "  <tbody>\n",
       "    <tr>\n",
       "      <th>4</th>\n",
       "      <td>201209</td>\n",
       "      <td>LEBL</td>\n",
       "      <td>LFST</td>\n",
       "      <td>0.0</td>\n",
       "      <td>0.0</td>\n",
       "      <td>0.0</td>\n",
       "      <td>2.9</td>\n",
       "      <td>2012</td>\n",
       "      <td>9</td>\n",
       "      <td>BARCELONE-EL PRAT</td>\n",
       "      <td>STRASBOURG-ENTZHEIM</td>\n",
       "    </tr>\n",
       "    <tr>\n",
       "      <th>28</th>\n",
       "      <td>201209</td>\n",
       "      <td>LFSB</td>\n",
       "      <td>LPPT</td>\n",
       "      <td>0.0</td>\n",
       "      <td>0.0</td>\n",
       "      <td>0.8</td>\n",
       "      <td>0.0</td>\n",
       "      <td>2012</td>\n",
       "      <td>9</td>\n",
       "      <td>BALE-MULHOUSE</td>\n",
       "      <td>LISBONNE-UMBERTO DELGADO</td>\n",
       "    </tr>\n",
       "    <tr>\n",
       "      <th>45</th>\n",
       "      <td>201209</td>\n",
       "      <td>LFSB</td>\n",
       "      <td>LEAL</td>\n",
       "      <td>0.0</td>\n",
       "      <td>0.0</td>\n",
       "      <td>1.0</td>\n",
       "      <td>0.0</td>\n",
       "      <td>2012</td>\n",
       "      <td>9</td>\n",
       "      <td>BALE-MULHOUSE</td>\n",
       "      <td>ALICANTE</td>\n",
       "    </tr>\n",
       "  </tbody>\n",
       "</table>\n",
       "</div>"
      ],
      "text/plain": [
       "    ANMOIS   DEP   ARR  PC15_D  PC15_A  RETARD_D  RETARD_A  YEAR  MONTH  \\\n",
       "4   201209  LEBL  LFST     0.0     0.0       0.0       2.9  2012      9   \n",
       "28  201209  LFSB  LPPT     0.0     0.0       0.8       0.0  2012      9   \n",
       "45  201209  LFSB  LEAL     0.0     0.0       1.0       0.0  2012      9   \n",
       "\n",
       "             DEP_NAME                  ARR_NAME  \n",
       "4   BARCELONE-EL PRAT       STRASBOURG-ENTZHEIM  \n",
       "28      BALE-MULHOUSE  LISBONNE-UMBERTO DELGADO  \n",
       "45      BALE-MULHOUSE                  ALICANTE  "
      ]
     },
     "metadata": {
      "tags": []
     },
     "output_type": "display_data"
    },
    {
     "name": "stdout",
     "output_type": "stream",
     "text": [
      "8155\n"
     ]
    },
    {
     "data": {
      "text/html": [
       "<div>\n",
       "<style scoped>\n",
       "    .dataframe tbody tr th:only-of-type {\n",
       "        vertical-align: middle;\n",
       "    }\n",
       "\n",
       "    .dataframe tbody tr th {\n",
       "        vertical-align: top;\n",
       "    }\n",
       "\n",
       "    .dataframe thead th {\n",
       "        text-align: right;\n",
       "    }\n",
       "</style>\n",
       "<table border=\"1\" class=\"dataframe\">\n",
       "  <thead>\n",
       "    <tr style=\"text-align: right;\">\n",
       "      <th></th>\n",
       "      <th>ANMOIS</th>\n",
       "      <th>DEP</th>\n",
       "      <th>ARR</th>\n",
       "      <th>PC15_D</th>\n",
       "      <th>PC15_A</th>\n",
       "      <th>RETARD_D</th>\n",
       "      <th>RETARD_A</th>\n",
       "      <th>YEAR</th>\n",
       "      <th>MONTH</th>\n",
       "      <th>DEP_NAME</th>\n",
       "      <th>ARR_NAME</th>\n",
       "    </tr>\n",
       "  </thead>\n",
       "  <tbody>\n",
       "    <tr>\n",
       "      <th>15</th>\n",
       "      <td>201209</td>\n",
       "      <td>LFSB</td>\n",
       "      <td>LFLL</td>\n",
       "      <td>0.071</td>\n",
       "      <td>0.095</td>\n",
       "      <td>4.6</td>\n",
       "      <td>4.2</td>\n",
       "      <td>2012</td>\n",
       "      <td>9</td>\n",
       "      <td>BALE-MULHOUSE</td>\n",
       "      <td>LYON-ST-EXUPERY</td>\n",
       "    </tr>\n",
       "    <tr>\n",
       "      <th>18</th>\n",
       "      <td>201209</td>\n",
       "      <td>LFSB</td>\n",
       "      <td>LFMN</td>\n",
       "      <td>0.188</td>\n",
       "      <td>0.125</td>\n",
       "      <td>8.0</td>\n",
       "      <td>7.6</td>\n",
       "      <td>2012</td>\n",
       "      <td>9</td>\n",
       "      <td>BALE-MULHOUSE</td>\n",
       "      <td>NICE-COTE D'AZUR</td>\n",
       "    </tr>\n",
       "    <tr>\n",
       "      <th>19</th>\n",
       "      <td>201209</td>\n",
       "      <td>LFSB</td>\n",
       "      <td>LFPG</td>\n",
       "      <td>0.087</td>\n",
       "      <td>0.096</td>\n",
       "      <td>4.2</td>\n",
       "      <td>3.9</td>\n",
       "      <td>2012</td>\n",
       "      <td>9</td>\n",
       "      <td>BALE-MULHOUSE</td>\n",
       "      <td>PARIS-CHARLES DE GAULLE</td>\n",
       "    </tr>\n",
       "  </tbody>\n",
       "</table>\n",
       "</div>"
      ],
      "text/plain": [
       "    ANMOIS   DEP   ARR  PC15_D  PC15_A  RETARD_D  RETARD_A  YEAR  MONTH  \\\n",
       "15  201209  LFSB  LFLL   0.071   0.095       4.6       4.2  2012      9   \n",
       "18  201209  LFSB  LFMN   0.188   0.125       8.0       7.6  2012      9   \n",
       "19  201209  LFSB  LFPG   0.087   0.096       4.2       3.9  2012      9   \n",
       "\n",
       "         DEP_NAME                 ARR_NAME  \n",
       "15  BALE-MULHOUSE          LYON-ST-EXUPERY  \n",
       "18  BALE-MULHOUSE         NICE-COTE D'AZUR  \n",
       "19  BALE-MULHOUSE  PARIS-CHARLES DE GAULLE  "
      ]
     },
     "metadata": {
      "tags": []
     },
     "output_type": "display_data"
    },
    {
     "name": "stdout",
     "output_type": "stream",
     "text": [
      "18413\n"
     ]
    }
   ],
   "source": [
    "weirdos = df_ret[(df_ret['PC15_A'] == 0) & (df_ret['PC15_D'] == 0)]\n",
    "display(weirdos.head(3))\n",
    "print(len(weirdos.index))\n",
    "retards = df_ret[(df_ret['RETARD_D'] > df_ret['RETARD_A']) & (df_ret['RETARD_A'] > 0)]\n",
    "display(retards.head(3))\n",
    "print(len(retards.index))"
   ]
  },
  {
   "cell_type": "code",
   "execution_count": 91,
   "metadata": {
    "colab": {
     "autoexec": {
      "startup": false,
      "wait_interval": 0
     },
     "base_uri": "https://localhost:8080/",
     "height": 85
    },
    "colab_type": "code",
    "executionInfo": {
     "elapsed": 540,
     "status": "ok",
     "timestamp": 1527344902320,
     "user": {
      "displayName": "tanguy racinet",
      "photoUrl": "https://lh3.googleusercontent.com/a/default-user=s128",
      "userId": "101148734551032567677"
     },
     "user_tz": -120
    },
    "id": "M1AGMnpJIJIa",
    "outputId": "56b0f181-9521-4837-c49a-b4f93582fe76"
   },
   "outputs": [
    {
     "name": "stdout",
     "output_type": "stream",
     "text": [
      "retard_d mean   > 0: 53\n",
      "retard_d median > 0: 46\n",
      "retard_a mean   > 0: 378\n",
      "retard_a median > 0: 363\n"
     ]
    }
   ],
   "source": [
    "df_ret_per_apt = df_ret.groupby(['DEP']).agg({'RETARD_D' : ['mean', 'median'], 'RETARD_A' : ['mean', 'median']})\n",
    "\n",
    "tmp = df_ret_per_apt[df_ret_per_apt['RETARD_D']['mean'] > 0]\n",
    "print('retard_d mean   > 0:',len(tmp.index))\n",
    "tmp = df_ret_per_apt[df_ret_per_apt['RETARD_D']['median'] > 0]\n",
    "print('retard_d median > 0:',len(tmp.index))\n",
    "tmp = df_ret_per_apt[df_ret_per_apt['RETARD_A']['mean'] > 0]\n",
    "print('retard_a mean   > 0:',len(tmp.index))\n",
    "tmp = df_ret_per_apt[df_ret_per_apt['RETARD_A']['median'] > 0]\n",
    "print('retard_a median > 0:',len(tmp.index))"
   ]
  },
  {
   "cell_type": "code",
   "execution_count": 92,
   "metadata": {
    "colab": {
     "autoexec": {
      "startup": false,
      "wait_interval": 0
     },
     "base_uri": "https://localhost:8080/",
     "height": 85
    },
    "colab_type": "code",
    "executionInfo": {
     "elapsed": 477,
     "status": "ok",
     "timestamp": 1527344903643,
     "user": {
      "displayName": "tanguy racinet",
      "photoUrl": "https://lh3.googleusercontent.com/a/default-user=s128",
      "userId": "101148734551032567677"
     },
     "user_tz": -120
    },
    "id": "enrzVAMFIJId",
    "outputId": "2499ce11-230d-49b8-fe6c-bdfbbd1a7842"
   },
   "outputs": [
    {
     "name": "stdout",
     "output_type": "stream",
     "text": [
      "retard_d mean   > 0: 2743\n",
      "retard_d median > 0: 2733\n",
      "retard_a mean   > 0: 20995\n",
      "retard_a median > 0: 20023\n"
     ]
    }
   ],
   "source": [
    "df_ret_per_apt = df_ret.groupby(['DEP', 'ANMOIS']).agg({'RETARD_D' : ['mean', 'median'], 'RETARD_A' : ['mean', 'median']})\n",
    "\n",
    "tmp = df_ret_per_apt[df_ret_per_apt['RETARD_D']['mean'] > 0]\n",
    "print('retard_d mean   > 0:',len(tmp.index))\n",
    "tmp = df_ret_per_apt[df_ret_per_apt['RETARD_D']['median'] > 0]\n",
    "print('retard_d median > 0:',len(tmp.index))\n",
    "tmp = df_ret_per_apt[df_ret_per_apt['RETARD_A']['mean'] > 0]\n",
    "print('retard_a mean   > 0:',len(tmp.index))\n",
    "tmp = df_ret_per_apt[df_ret_per_apt['RETARD_A']['median'] > 0]\n",
    "print('retard_a median > 0:',len(tmp.index))"
   ]
  },
  {
   "cell_type": "code",
   "execution_count": 39,
   "metadata": {
    "colab": {
     "autoexec": {
      "startup": false,
      "wait_interval": 0
     },
     "base_uri": "https://localhost:8080/",
     "height": 513
    },
    "colab_type": "code",
    "executionInfo": {
     "elapsed": 947,
     "status": "ok",
     "timestamp": 1527428720928,
     "user": {
      "displayName": "tanguy racinet",
      "photoUrl": "https://lh3.googleusercontent.com/a/default-user=s128",
      "userId": "101148734551032567677"
     },
     "user_tz": -120
    },
    "id": "m1MDzZUlIJIe",
    "outputId": "35ea2191-5a11-4420-961e-1961360a601c"
   },
   "outputs": [
    {
     "data": {
      "image/png": "[encoded data removed]",
      "text/plain": [
       "<matplotlib.figure.Figure at 0x7f00aa645a20>"
      ]
     },
     "metadata": {
      "tags": []
     },
     "output_type": "display_data"
    },
    {
     "data": {
      "text/html": [
       "<div>\n",
       "<style scoped>\n",
       "    .dataframe tbody tr th:only-of-type {\n",
       "        vertical-align: middle;\n",
       "    }\n",
       "\n",
       "    .dataframe tbody tr th {\n",
       "        vertical-align: top;\n",
       "    }\n",
       "\n",
       "    .dataframe thead th {\n",
       "        text-align: right;\n",
       "    }\n",
       "</style>\n",
       "<table border=\"1\" class=\"dataframe\">\n",
       "  <thead>\n",
       "    <tr style=\"text-align: right;\">\n",
       "      <th></th>\n",
       "      <th>YEAR</th>\n",
       "      <th>MONTH</th>\n",
       "      <th>RETARD_D</th>\n",
       "    </tr>\n",
       "  </thead>\n",
       "  <tbody>\n",
       "    <tr>\n",
       "      <th>0</th>\n",
       "      <td>2012</td>\n",
       "      <td>1</td>\n",
       "      <td>12.007692</td>\n",
       "    </tr>\n",
       "    <tr>\n",
       "      <th>1</th>\n",
       "      <td>2012</td>\n",
       "      <td>2</td>\n",
       "      <td>15.974742</td>\n",
       "    </tr>\n",
       "    <tr>\n",
       "      <th>2</th>\n",
       "      <td>2012</td>\n",
       "      <td>3</td>\n",
       "      <td>11.923737</td>\n",
       "    </tr>\n",
       "  </tbody>\n",
       "</table>\n",
       "</div>"
      ],
      "text/plain": [
       "   YEAR  MONTH   RETARD_D\n",
       "0  2012      1  12.007692\n",
       "1  2012      2  15.974742\n",
       "2  2012      3  11.923737"
      ]
     },
     "metadata": {
      "tags": []
     },
     "output_type": "display_data"
    }
   ],
   "source": [
    "df_ret_paris_per_month = (\n",
    "    df_ret[df_ret['DEP'] == 'LFPG']\n",
    "    .groupby(['YEAR','MONTH'])\n",
    "    .agg({'RETARD_D':'mean'})\n",
    "    .reset_index()\n",
    ")\n",
    "\n",
    "fig, ax = plt.subplots(figsize=(16, 6))\n",
    "\n",
    "for key, grp in df_ret_paris_per_month.groupby('YEAR'):\n",
    "    ax = grp.plot.line(ax=ax, label=key, x='MONTH',y='RETARD_D')\n",
    "\n",
    "plt.show()"
   ]
  },
  {
   "cell_type": "markdown",
   "metadata": {
    "colab_type": "text",
    "id": "aU-e4aWvZGui"
   },
   "source": []
  }
 ],
 "metadata": {
  "colab": {
   "collapsed_sections": [
    "Wqx9QyxiIJIB",
    "N8qcLMcYIJIR",
    "dl6gmUnhIJIL"
   ],
   "default_view": {},
   "name": "data_viz.ipynb",
   "provenance": [],
   "version": "0.3.2",
   "views": {}
  },
  "kernelspec": {
   "display_name": "Python 3",
   "language": "python",
   "name": "python3"
  },
  "language_info": {
   "codemirror_mode": {
    "name": "ipython",
    "version": 3
   },
   "file_extension": ".py",
   "mimetype": "text/x-python",
   "name": "python",
   "nbconvert_exporter": "python",
   "pygments_lexer": "ipython3",
   "version": "3.6.5"
  }
 },
 "nbformat": 4,
 "nbformat_minor": 1
}
